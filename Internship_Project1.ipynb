{
  "nbformat": 4,
  "nbformat_minor": 0,
  "metadata": {
    "colab": {
      "provenance": [],
      "authorship_tag": "ABX9TyNrEqgw7pPkkAvETPJ6uIiw",
      "include_colab_link": true
    },
    "kernelspec": {
      "name": "python3",
      "display_name": "Python 3"
    },
    "language_info": {
      "name": "python"
    }
  },
  "cells": [
    {
      "cell_type": "markdown",
      "metadata": {
        "id": "view-in-github",
        "colab_type": "text"
      },
      "source": [
        "<a href=\"https://colab.research.google.com/github/nithinkalyan1708/Intergrating-Project/blob/main/Internship_Project1.ipynb\" target=\"_parent\"><img src=\"https://colab.research.google.com/assets/colab-badge.svg\" alt=\"Open In Colab\"/></a>"
      ]
    },
    {
      "cell_type": "markdown",
      "source": [
        "Bank Customer Churn Model"
      ],
      "metadata": {
        "id": "OECdZgl2EZT8"
      }
    },
    {
      "cell_type": "markdown",
      "source": [
        "The objective is to predict the customers who are at risk at terminating their  relationship with the bank."
      ],
      "metadata": {
        "id": "O5qKaAtQD99H"
      }
    },
    {
      "cell_type": "markdown",
      "source": [
        " https://github.com/YBI-Foundation/Dataset/raw/main/Bank%20Churn%20Modelling.csv"
      ],
      "metadata": {
        "id": "u1Psvu8FFnOf"
      }
    },
    {
      "cell_type": "markdown",
      "source": [
        "Import the Library"
      ],
      "metadata": {
        "id": "nOO9qwXhDJ5W"
      }
    },
    {
      "cell_type": "code",
      "source": [
        "import pandas as pd\n",
        "import numpy as np\n",
        "import matplotlib.pyplot as plt\n",
        "import seaborn as sns\n",
        "from sklearn.preprocessing import LabelEncoder"
      ],
      "metadata": {
        "id": "lLm4jFifFx6n"
      },
      "execution_count": null,
      "outputs": []
    },
    {
      "cell_type": "markdown",
      "source": [
        "Import data"
      ],
      "metadata": {
        "id": "PlQ6SqvvGDZn"
      }
    },
    {
      "cell_type": "code",
      "source": [
        "df = pd.read_csv('https://github.com/YBI-Foundation/Dataset/raw/main/Bank%20Churn%20Modelling.csv')"
      ],
      "metadata": {
        "id": "DPAuKkoHGIVf"
      },
      "execution_count": null,
      "outputs": []
    },
    {
      "cell_type": "markdown",
      "source": [
        "Describe the data"
      ],
      "metadata": {
        "id": "-HveZhxfGlYg"
      }
    },
    {
      "cell_type": "code",
      "source": [
        "df.describe"
      ],
      "metadata": {
        "colab": {
          "base_uri": "https://localhost:8080/"
        },
        "id": "q347in2iGoNx",
        "outputId": "7ca35dc3-91ee-4e8d-e7f6-a4e66fa76a3b"
      },
      "execution_count": null,
      "outputs": [
        {
          "output_type": "execute_result",
          "data": {
            "text/plain": [
              "<bound method NDFrame.describe of       CustomerId    Surname  CreditScore Geography  Gender  Age  Tenure  \\\n",
              "0       15634602   Hargrave          619    France  Female   42       2   \n",
              "1       15647311       Hill          608     Spain  Female   41       1   \n",
              "2       15619304       Onio          502    France  Female   42       8   \n",
              "3       15701354       Boni          699    France  Female   39       1   \n",
              "4       15737888   Mitchell          850     Spain  Female   43       2   \n",
              "...          ...        ...          ...       ...     ...  ...     ...   \n",
              "9995    15606229   Obijiaku          771    France    Male   39       5   \n",
              "9996    15569892  Johnstone          516    France    Male   35      10   \n",
              "9997    15584532        Liu          709    France  Female   36       7   \n",
              "9998    15682355  Sabbatini          772   Germany    Male   42       3   \n",
              "9999    15628319     Walker          792    France  Female   28       4   \n",
              "\n",
              "        Balance  Num Of Products  Has Credit Card  Is Active Member  \\\n",
              "0          0.00                1                1                 1   \n",
              "1      83807.86                1                0                 1   \n",
              "2     159660.80                3                1                 0   \n",
              "3          0.00                2                0                 0   \n",
              "4     125510.82                1                1                 1   \n",
              "...         ...              ...              ...               ...   \n",
              "9995       0.00                2                1                 0   \n",
              "9996   57369.61                1                1                 1   \n",
              "9997       0.00                1                0                 1   \n",
              "9998   75075.31                2                1                 0   \n",
              "9999  130142.79                1                1                 0   \n",
              "\n",
              "      Estimated Salary  Churn  \n",
              "0            101348.88      1  \n",
              "1            112542.58      0  \n",
              "2            113931.57      1  \n",
              "3             93826.63      0  \n",
              "4             79084.10      0  \n",
              "...                ...    ...  \n",
              "9995          96270.64      0  \n",
              "9996         101699.77      0  \n",
              "9997          42085.58      1  \n",
              "9998          92888.52      1  \n",
              "9999          38190.78      0  \n",
              "\n",
              "[10000 rows x 13 columns]>"
            ]
          },
          "metadata": {},
          "execution_count": 6
        }
      ]
    },
    {
      "cell_type": "code",
      "source": [
        "df.shape"
      ],
      "metadata": {
        "colab": {
          "base_uri": "https://localhost:8080/"
        },
        "id": "4yepYxHUGtF_",
        "outputId": "916d55ab-f2f1-4820-cbe6-fd43e58b9b2e"
      },
      "execution_count": null,
      "outputs": [
        {
          "output_type": "execute_result",
          "data": {
            "text/plain": [
              "(10000, 13)"
            ]
          },
          "metadata": {},
          "execution_count": 7
        }
      ]
    },
    {
      "cell_type": "code",
      "source": [
        "df.info()"
      ],
      "metadata": {
        "colab": {
          "base_uri": "https://localhost:8080/"
        },
        "id": "mxaj5RlyGwR3",
        "outputId": "afd98ac6-fe32-41f1-d20d-d506dde52619"
      },
      "execution_count": null,
      "outputs": [
        {
          "output_type": "stream",
          "name": "stdout",
          "text": [
            "<class 'pandas.core.frame.DataFrame'>\n",
            "RangeIndex: 10000 entries, 0 to 9999\n",
            "Data columns (total 13 columns):\n",
            " #   Column            Non-Null Count  Dtype  \n",
            "---  ------            --------------  -----  \n",
            " 0   CustomerId        10000 non-null  int64  \n",
            " 1   Surname           10000 non-null  object \n",
            " 2   CreditScore       10000 non-null  int64  \n",
            " 3   Geography         10000 non-null  object \n",
            " 4   Gender            10000 non-null  object \n",
            " 5   Age               10000 non-null  int64  \n",
            " 6   Tenure            10000 non-null  int64  \n",
            " 7   Balance           10000 non-null  float64\n",
            " 8   Num Of Products   10000 non-null  int64  \n",
            " 9   Has Credit Card   10000 non-null  int64  \n",
            " 10  Is Active Member  10000 non-null  int64  \n",
            " 11  Estimated Salary  10000 non-null  float64\n",
            " 12  Churn             10000 non-null  int64  \n",
            "dtypes: float64(2), int64(8), object(3)\n",
            "memory usage: 1015.8+ KB\n"
          ]
        }
      ]
    },
    {
      "cell_type": "markdown",
      "source": [
        "Data Visualization"
      ],
      "metadata": {
        "id": "lXkEGEU-JD6Q"
      }
    },
    {
      "cell_type": "code",
      "source": [
        "df['Gender'].value_counts()"
      ],
      "metadata": {
        "colab": {
          "base_uri": "https://localhost:8080/"
        },
        "id": "wfw-YYnjJG0B",
        "outputId": "9dced170-55fd-41ad-fa43-bbde0fde1e2a"
      },
      "execution_count": null,
      "outputs": [
        {
          "output_type": "execute_result",
          "data": {
            "text/plain": [
              "Male      5457\n",
              "Female    4543\n",
              "Name: Gender, dtype: int64"
            ]
          },
          "metadata": {},
          "execution_count": 9
        }
      ]
    },
    {
      "cell_type": "code",
      "source": [
        "df['Geography'].value_counts()"
      ],
      "metadata": {
        "colab": {
          "base_uri": "https://localhost:8080/"
        },
        "id": "g6frWH9-KQ6H",
        "outputId": "aecc2b2e-252a-47a8-d9f7-fb6658aac3f9"
      },
      "execution_count": null,
      "outputs": [
        {
          "output_type": "execute_result",
          "data": {
            "text/plain": [
              "France     5014\n",
              "Germany    2509\n",
              "Spain      2477\n",
              "Name: Geography, dtype: int64"
            ]
          },
          "metadata": {},
          "execution_count": 10
        }
      ]
    },
    {
      "cell_type": "code",
      "source": [
        "df['CreditScore'].hist()"
      ],
      "metadata": {
        "colab": {
          "base_uri": "https://localhost:8080/",
          "height": 447
        },
        "id": "zZBZWg56LPMA",
        "outputId": "2434c77b-c7cc-481f-d535-c89d04f1ee36"
      },
      "execution_count": null,
      "outputs": [
        {
          "output_type": "execute_result",
          "data": {
            "text/plain": [
              "<Axes: >"
            ]
          },
          "metadata": {},
          "execution_count": 11
        },
        {
          "output_type": "display_data",
          "data": {
            "text/plain": [
              "<Figure size 640x480 with 1 Axes>"
            ],
            "image/png": "[encoded data removed]"
          },
          "metadata": {}
        }
      ]
    },
    {
      "cell_type": "code",
      "source": [
        "plt.scatter(df['Age'],df['Balance'])\n",
        "plt.title('Customer Segmentation')\n",
        "plt.xlabel('Age')\n",
        "plt.ylabel('Balance')\n",
        "plt.show()"
      ],
      "metadata": {
        "colab": {
          "base_uri": "https://localhost:8080/",
          "height": 472
        },
        "id": "0ATsEzxHKXyX",
        "outputId": "543f547e-ac04-486a-c2ca-d8a3c8aa193b"
      },
      "execution_count": null,
      "outputs": [
        {
          "output_type": "display_data",
          "data": {
            "text/plain": [
              "<Figure size 640x480 with 1 Axes>"
            ],
            "image/png": "[encoded data removed]"
          },
          "metadata": {}
        }
      ]
    },
    {
      "cell_type": "markdown",
      "source": [
        "Data Preprocessing"
      ],
      "metadata": {
        "id": "xq3q1WepMg8o"
      }
    },
    {
      "cell_type": "code",
      "source": [
        "label_encoder = LabelEncoder()\n",
        "df['Geography'] = label_encoder.fit_transform(df['Geography'])\n",
        "df['Gender'] = label_encoder.fit_transform(df['Gender'])\n",
        "\n",
        "\n",
        "\n",
        "\n",
        "X = df.drop('Surname', axis=1)\n",
        "y = df['Surname']"
      ],
      "metadata": {
        "id": "idJhKHIDMibH"
      },
      "execution_count": null,
      "outputs": []
    },
    {
      "cell_type": "markdown",
      "source": [
        "Define Target Variable (y) and Feature Variables (X)"
      ],
      "metadata": {
        "id": "CNBDgADCNwbZ"
      }
    },
    {
      "cell_type": "code",
      "source": [
        "X = df[['CreditScore', 'Balance',  'Estimated Salary']]\n",
        "y = df['Age']"
      ],
      "metadata": {
        "id": "kfQnz-xFNyFZ"
      },
      "execution_count": null,
      "outputs": []
    },
    {
      "cell_type": "markdown",
      "source": [
        "Train Test Split"
      ],
      "metadata": {
        "id": "bj9J7Bm-PN5n"
      }
    },
    {
      "cell_type": "code",
      "source": [
        "from sklearn.model_selection import train_test_split\n",
        "X_train, X_test, y_train, y_test = train_test_split(X, y, test_size=0.2, random_state=42)\n",
        "rf_classifier = RandomForestClassifier(n_estimators=100, random_state=42)\n",
        "rf_classifier.fit(X_train, y_train)\n",
        "y_pred = rf_classifier.predict(X_test)\n",
        "\n"
      ],
      "metadata": {
        "id": "ePsAzSn3PNFh"
      },
      "execution_count": null,
      "outputs": []
    },
    {
      "cell_type": "code",
      "source": [
        "from sklearn.linear_model import LinearRegression\n",
        "model = LinearRegression()\n",
        "\n",
        "\n",
        "# Step 6 : train or fit model\n",
        "model.fit(X_train,y_train)"
      ],
      "metadata": {
        "colab": {
          "base_uri": "https://localhost:8080/",
          "height": 75
        },
        "id": "cs1vDfsRH9cw",
        "outputId": "84c59fc1-52e0-4766-ea4e-387c2425b0b2"
      },
      "execution_count": null,
      "outputs": [
        {
          "output_type": "execute_result",
          "data": {
            "text/plain": [
              "LinearRegression()"
            ],
            "text/html": [
              "<style>#sk-container-id-1 {color: black;background-color: white;}#sk-container-id-1 pre{padding: 0;}#sk-container-id-1 div.sk-toggleable {background-color: white;}#sk-container-id-1 label.sk-toggleable__label {cursor: pointer;display: block;width: 100%;margin-bottom: 0;padding: 0.3em;box-sizing: border-box;text-align: center;}#sk-container-id-1 label.sk-toggleable__label-arrow:before {content: \"▸\";float: left;margin-right: 0.25em;color: #696969;}#sk-container-id-1 label.sk-toggleable__label-arrow:hover:before {color: black;}#sk-container-id-1 div.sk-estimator:hover label.sk-toggleable__label-arrow:before {color: black;}#sk-container-id-1 div.sk-toggleable__content {max-height: 0;max-width: 0;overflow: hidden;text-align: left;background-color: #f0f8ff;}#sk-container-id-1 div.sk-toggleable__content pre {margin: 0.2em;color: black;border-radius: 0.25em;background-color: #f0f8ff;}#sk-container-id-1 input.sk-toggleable__control:checked~div.sk-toggleable__content {max-height: 200px;max-width: 100%;overflow: auto;}#sk-container-id-1 input.sk-toggleable__control:checked~label.sk-toggleable__label-arrow:before {content: \"▾\";}#sk-container-id-1 div.sk-estimator input.sk-toggleable__control:checked~label.sk-toggleable__label {background-color: #d4ebff;}#sk-container-id-1 div.sk-label input.sk-toggleable__control:checked~label.sk-toggleable__label {background-color: #d4ebff;}#sk-container-id-1 input.sk-hidden--visually {border: 0;clip: rect(1px 1px 1px 1px);clip: rect(1px, 1px, 1px, 1px);height: 1px;margin: -1px;overflow: hidden;padding: 0;position: absolute;width: 1px;}#sk-container-id-1 div.sk-estimator {font-family: monospace;background-color: #f0f8ff;border: 1px dotted black;border-radius: 0.25em;box-sizing: border-box;margin-bottom: 0.5em;}#sk-container-id-1 div.sk-estimator:hover {background-color: #d4ebff;}#sk-container-id-1 div.sk-parallel-item::after {content: \"\";width: 100%;border-bottom: 1px solid gray;flex-grow: 1;}#sk-container-id-1 div.sk-label:hover label.sk-toggleable__label {background-color: #d4ebff;}#sk-container-id-1 div.sk-serial::before {content: \"\";position: absolute;border-left: 1px solid gray;box-sizing: border-box;top: 0;bottom: 0;left: 50%;z-index: 0;}#sk-container-id-1 div.sk-serial {display: flex;flex-direction: column;align-items: center;background-color: white;padding-right: 0.2em;padding-left: 0.2em;position: relative;}#sk-container-id-1 div.sk-item {position: relative;z-index: 1;}#sk-container-id-1 div.sk-parallel {display: flex;align-items: stretch;justify-content: center;background-color: white;position: relative;}#sk-container-id-1 div.sk-item::before, #sk-container-id-1 div.sk-parallel-item::before {content: \"\";position: absolute;border-left: 1px solid gray;box-sizing: border-box;top: 0;bottom: 0;left: 50%;z-index: -1;}#sk-container-id-1 div.sk-parallel-item {display: flex;flex-direction: column;z-index: 1;position: relative;background-color: white;}#sk-container-id-1 div.sk-parallel-item:first-child::after {align-self: flex-end;width: 50%;}#sk-container-id-1 div.sk-parallel-item:last-child::after {align-self: flex-start;width: 50%;}#sk-container-id-1 div.sk-parallel-item:only-child::after {width: 0;}#sk-container-id-1 div.sk-dashed-wrapped {border: 1px dashed gray;margin: 0 0.4em 0.5em 0.4em;box-sizing: border-box;padding-bottom: 0.4em;background-color: white;}#sk-container-id-1 div.sk-label label {font-family: monospace;font-weight: bold;display: inline-block;line-height: 1.2em;}#sk-container-id-1 div.sk-label-container {text-align: center;}#sk-container-id-1 div.sk-container {/* jupyter's `normalize.less` sets `[hidden] { display: none; }` but bootstrap.min.css set `[hidden] { display: none !important; }` so we also need the `!important` here to be able to override the default hidden behavior on the sphinx rendered scikit-learn.org. See: https://github.com/scikit-learn/scikit-learn/issues/21755 */display: inline-block !important;position: relative;}#sk-container-id-1 div.sk-text-repr-fallback {display: none;}</style><div id=\"sk-container-id-1\" class=\"sk-top-container\"><div class=\"sk-text-repr-fallback\"><pre>LinearRegression()</pre><b>In a Jupyter environment, please rerun this cell to show the HTML representation or trust the notebook. <br />On GitHub, the HTML representation is unable to render, please try loading this page with nbviewer.org.</b></div><div class=\"sk-container\" hidden><div class=\"sk-item\"><div class=\"sk-estimator sk-toggleable\"><input class=\"sk-toggleable__control sk-hidden--visually\" id=\"sk-estimator-id-1\" type=\"checkbox\" checked><label for=\"sk-estimator-id-1\" class=\"sk-toggleable__label sk-toggleable__label-arrow\">LinearRegression</label><div class=\"sk-toggleable__content\"><pre>LinearRegression()</pre></div></div></div></div></div>"
            ]
          },
          "metadata": {},
          "execution_count": 27
        }
      ]
    },
    {
      "cell_type": "code",
      "source": [
        "y_pred = model.predict(X_test)\n",
        "y_pred"
      ],
      "metadata": {
        "colab": {
          "base_uri": "https://localhost:8080/"
        },
        "id": "dQIzBFeRHxLf",
        "outputId": "29a16cc9-eabe-4aee-b75b-72f950f954a7"
      },
      "execution_count": null,
      "outputs": [
        {
          "output_type": "execute_result",
          "data": {
            "text/plain": [
              "array([39.0541033 , 38.55276235, 38.59233209, ..., 38.49372242,\n",
              "       38.51388717, 39.09920899])"
            ]
          },
          "metadata": {},
          "execution_count": 28
        }
      ]
    },
    {
      "cell_type": "markdown",
      "source": [
        "Model Evaluation"
      ],
      "metadata": {
        "id": "seFbh270P4ZH"
      }
    },
    {
      "cell_type": "code",
      "source": [
        "from sklearn.metrics import  confusion_matrix\n",
        "confusion_mat = confusion_matrix(y_test, y_pred)\n",
        "\n",
        "print(\"Confusion Matrix:\")\n",
        "print(confusion_mat)"
      ],
      "metadata": {
        "colab": {
          "base_uri": "https://localhost:8080/"
        },
        "id": "Dr2EBwgZP-qw",
        "outputId": "54266e3b-74fa-4ae0-c012-7825ee521dd0"
      },
      "execution_count": null,
      "outputs": [
        {
          "output_type": "stream",
          "name": "stdout",
          "text": [
            "Confusion Matrix:\n",
            "[[0 0 0 ... 0 0 0]\n",
            " [0 0 0 ... 0 0 0]\n",
            " [0 0 0 ... 0 0 0]\n",
            " ...\n",
            " [0 0 0 ... 0 0 0]\n",
            " [0 0 0 ... 0 0 0]\n",
            " [0 0 0 ... 0 0 0]]\n"
          ]
        }
      ]
    },
    {
      "cell_type": "code",
      "source": [
        "from sklearn.metrics import mean_absolute_error, r2_score\n",
        "mean_absolute_error(y_test,y_pred)"
      ],
      "metadata": {
        "colab": {
          "base_uri": "https://localhost:8080/"
        },
        "id": "knmrEaeyIFH4",
        "outputId": "b1ee5585-63e4-447d-bf83-4293abbe87bf"
      },
      "execution_count": null,
      "outputs": [
        {
          "output_type": "execute_result",
          "data": {
            "text/plain": [
              "7.796387549943597"
            ]
          },
          "metadata": {},
          "execution_count": 29
        }
      ]
    },
    {
      "cell_type": "code",
      "source": [
        "r2_score(y_test,y_pred)"
      ],
      "metadata": {
        "id": "xvXVUv9zINzB",
        "outputId": "9b1d839c-f4b0-4e54-8db8-7e63e9300c22",
        "colab": {
          "base_uri": "https://localhost:8080/"
        }
      },
      "execution_count": null,
      "outputs": [
        {
          "output_type": "execute_result",
          "data": {
            "text/plain": [
              "0.0006836162054020267"
            ]
          },
          "metadata": {},
          "execution_count": 30
        }
      ]
    }
  ]
}